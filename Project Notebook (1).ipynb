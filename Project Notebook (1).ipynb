{
 "cells": [
  {
   "cell_type": "code",
   "execution_count": 18,
   "metadata": {},
   "outputs": [],
   "source": [
    "import string\n",
    "import random\n",
    "import nltk\n",
    "#from my_module.function import end_chat, rate_happiness, rate_response, have_a_chat\n",
    "#from my_module.testfunctions import **************************"
   ]
  },
  {
   "cell_type": "code",
   "execution_count": 19,
   "metadata": {},
   "outputs": [],
   "source": [
    "#copied fom A3\n",
    "def end_chat(input_list):\n",
    "    output = False \n",
    "    if 'quit' in input_list:\n",
    "        return True\n",
    "    return output\n",
    "\n",
    "#copied fromA3\n",
    "def selector(input_list,check_list,return_list):\n",
    "    output = None\n",
    "    for elt in input_list:\n",
    "        if elt in check_list:\n",
    "            output = random.choice(return_list)\n",
    "            break\n",
    "    return output\n",
    "GREETINGS_INPUT = ['hi','hello']\n",
    "GREETINGS_OUTPUT = ['Hi there!', 'Hello, stranger!', 'Hello!']\n",
    "YES_LIST= [ 'yes', 'ya', 'sure', 'ok', 'yea' , 'yep', 'yup', 'YAAAAAS','totally','totes','sure', 'you bet', 'yeah', 'yes please']"
   ]
  },
  {
   "cell_type": "code",
   "execution_count": 20,
   "metadata": {},
   "outputs": [],
   "source": [
    "def rate_happiness(message):\n",
    "    sad_rate = ['Aw, I\\'m so sorry to hear that. Would you like some help?', 'Im so sorry to hear that, would you like me to point you to some resources?'] \n",
    "    neutral_rate = ['Alright, not bad! Do you wanna see a resource that could help improve your quality of life?' , 'Im glad to see youre doing okay, do you wanna know how to potentially be happier overall?']\n",
    "    happy_rate = ['yay, do u wanna see something cute','haha, can i show u something cute?']\n",
    "    \n",
    "    rate = 'ok'\n",
    "    \n",
    "    #returns question based on happiness rate\n",
    "    if '0' == message or '1' == message or '2' == message or '3' == message or '4' == message:\n",
    "        rate = random.choice(sad_rate)\n",
    "    elif '5' == message or '6' == message or '7' == message or '8' == message:\n",
    "        rate = random.choice(neutral_rate)\n",
    "    elif '9' == message or '10' == message:\n",
    "        rate = random.choice(happy_rate) \n",
    "    return rate, message\n",
    "   "
   ]
  },
  {
   "cell_type": "code",
   "execution_count": 21,
   "metadata": {},
   "outputs": [],
   "source": [
    "#def test():\n",
    "    #message == \"1\"\n",
    "    #assert rate in [Aw, I\\'m so sorry to hear that. Would you like some help?', 'Im so sorry to hear that, would you like me to point you to some resources?']"
   ]
  },
  {
   "cell_type": "code",
   "execution_count": 22,
   "metadata": {},
   "outputs": [],
   "source": [
    "def rate_response(rate, message):\n",
    "    \n",
    "    print('OUTPUT:', rate)\n",
    "    want_help = input('INPUT:\\t')\n",
    "    yes_bool = False\n",
    "    for yes_elt in YES_LIST: \n",
    "        if want_help == yes_elt: \n",
    "            yes_bool = True\n",
    "            break\n",
    "    #response_to_rate: \n",
    "    if '0' == message:\n",
    "        if yes_bool==True:\n",
    "            return 'Call this number for UCSD\\'s Crisis Hotline. Stay strong! 858-534-3755'\n",
    "        else:\n",
    "            return 'Okay, consider calling 858-534-3755 if you want to talk later. Have a beautiful day!'\n",
    "    if '1'  == message or '2' == message or '3' == message or '4' == message:\n",
    "        if yes_bool==True:\n",
    "            return 'Click this link! https://wellness.ucsd.edu/CAPS/Pages/default.aspx'\n",
    "        else:\n",
    "            return 'Alright, well I hope things start to look up for you!'\n",
    "    elif '5' == message or '6' == message or '7' == message or '8' == message:\n",
    "        if yes_bool==True:\n",
    "            return 'Click this link! https://wellness.ucsd.edu/zone/Pages/default.aspx'\n",
    "        else:\n",
    "            return 'Okay, well I hope you have a wonderful day!'\n",
    "    elif '9' == message or '10' == message:\n",
    "        if yes_bool==True:\n",
    "            return 'Click this link! https://gph.is/2ycyxlO'\n",
    "        else:\n",
    "            return 'Okay byyyyyyye!'\n",
    "    return 'I didn\\'t quite get that. Could you give me a number 0 through 10?' "
   ]
  },
  {
   "cell_type": "code",
   "execution_count": 23,
   "metadata": {},
   "outputs": [],
   "source": [
    "def test_rate_response():\n",
    "    message == 0\n",
    "    assert\n",
    "    assert callable(rate_response)\n",
    "    "
   ]
  },
  {
   "cell_type": "code",
   "execution_count": 24,
   "metadata": {},
   "outputs": [],
   "source": [
    "#Some code is from A3\n",
    "def ucsd_feelings_chat():\n",
    "    \n",
    "    chat = True\n",
    "    help_given = False\n",
    "    while chat:\n",
    "\n",
    "        # Get a message from the user\n",
    "        message = input('INPUT :\\t').lower()\n",
    "        out_message = None\n",
    "\n",
    "\n",
    "        # Check for an end msg \n",
    "        if end_chat(message):\n",
    "            out_message = 'Bye!'\n",
    "            chat = False\n",
    "        #Asks UCSD STudnt if they would like to talk about their feelings\n",
    "        if not out_message:\n",
    "            output = []\n",
    "            output.append(selector(message, GREETINGS_INPUT, GREETINGS_OUTPUT))\n",
    "            output = ['Hello Triton! Do you wanna talk about your feelings, yes or no?']\n",
    "            #CHecks if response to previous question is in YES_LIST, to see if bot should ask next question.\n",
    "            yes_bool = False\n",
    "            for yes_elt in YES_LIST: \n",
    "                if message == yes_elt: \n",
    "                    yes_bool = True\n",
    "                    break\n",
    "            #Asks UCSD Student to rate how happy they are on a scale from 0-10\n",
    "            if yes_bool == True:\n",
    "                rate_msg = 'On a scale from 0 to 10, how happy are you? 0 is the saddest, 10 is the happiest.' \n",
    "                print('OUTPUT:', rate_msg) \n",
    "                #Checks if response to previous question is valid. If not, asks for input again.\n",
    "                validNum = False\n",
    "                while not validNum:\n",
    "                    message = input('INPUT:\\t')\n",
    "                    NUM_LIST = ['0','1', '2', '3', '4', '5', '6', '7', '8', '9', '10']\n",
    "                    for num in NUM_LIST:\n",
    "                        if message == num: \n",
    "                            validNum = True\n",
    "                            break\n",
    "                    if not validNum:\n",
    "                        print('OUTPUT: I didn\\'t quite get that. Could you give me a number 0 through 10?')\n",
    "                #Checks if student wants more output based on their response to questions in sad_rate, neutral_rate, and happy_rate lists.        \n",
    "                rate = rate_happiness(message)\n",
    "                resource = rate_response(rate[0], rate[1])\n",
    "                print('OUTPUT:', resource)\n",
    "                help_given = True\n",
    "                break\n",
    "            #Returns output if student doesn't want to talk about feelings    \n",
    "            elif message =='no':\n",
    "                chat = False\n",
    "                output = ['Okay, sorry I couldn\\'t help you. Have a nice day!']\n",
    "        \n",
    "            options = list(filter(None, output))\n",
    "            if options:\n",
    "                out_message = random.choice(options)\n",
    "        if not help_given:\n",
    "            print('OUTPUT:', out_message)"
   ]
  },
  {
   "cell_type": "code",
   "execution_count": 17,
   "metadata": {},
   "outputs": [
    {
     "name": "stdout",
     "output_type": "stream",
     "text": [
      "INPUT :\the\n",
      "OUTPUT: Hello Triton! Do you wanna talk about your feelings, yes or no?\n",
      "INPUT :\tyes\n",
      "OUTPUT: On a scale from 0 to 10, how happy are you? 0 is the saddest, 10 is the happiest.\n",
      "INPUT:\t0\n",
      "OUTPUT: Aw, I'm so sorry to hear that. Would you like some help?\n",
      "INPUT:\tno\n",
      "OUTPUT: Okay, consider calling 858-534-3755 if you want to talk later. Have a beautiful day!\n"
     ]
    }
   ],
   "source": [
    "#uncomment to chat\n",
    "ucsd_feelings_chat()"
   ]
  },
  {
   "cell_type": "code",
   "execution_count": null,
   "metadata": {},
   "outputs": [],
   "source": []
  },
  {
   "cell_type": "code",
   "execution_count": null,
   "metadata": {},
   "outputs": [],
   "source": []
  }
 ],
 "metadata": {
  "kernelspec": {
   "display_name": "Python 3",
   "language": "python",
   "name": "python3"
  },
  "language_info": {
   "codemirror_mode": {
    "name": "ipython",
    "version": 3
   },
   "file_extension": ".py",
   "mimetype": "text/x-python",
   "name": "python",
   "nbconvert_exporter": "python",
   "pygments_lexer": "ipython3",
   "version": "3.6.7"
  }
 },
 "nbformat": 4,
 "nbformat_minor": 2
}
